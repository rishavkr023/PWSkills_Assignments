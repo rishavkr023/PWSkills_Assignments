{
 "cells": [
  {
   "cell_type": "markdown",
   "id": "6a148ffc",
   "metadata": {},
   "source": [
    "Assignment1\n"
   ]
  },
  {
   "cell_type": "markdown",
   "id": "b7fb457d",
   "metadata": {},
   "source": [
    "Q1. What are the characteristics of the tuples? Is tuple immutable?\n",
    "\n",
    "\n",
    "Ans-1) Ordered collection of element.\n",
    "    2) Objects in tupple are immutable.\n",
    "    3) Elements are placed in paranthesis, seperatable by commas.\n",
    "    Tuples are immutable."
   ]
  },
  {
   "cell_type": "markdown",
   "id": "3ae78a6a",
   "metadata": {},
   "source": [
    "Q2. What are the two tuple methods in python? Give an example of each method. Give a reason why\n",
    "tuples have only two in-built methods as compared to Lists.\n",
    "\n",
    "\n",
    "Ans- two methods are\n",
    "     1) indexing \n",
    "     2) Slicing\n",
    "tuples have only two in-built methods as compared to Lists because a tuple is an immutable data structure in python. Elements of Tuple cannot be modified once they are created. Because of this, there are only a limited number of methods (2) available for working with tuples."
   ]
  },
  {
   "cell_type": "code",
   "execution_count": 24,
   "id": "e38d0e20",
   "metadata": {},
   "outputs": [
    {
     "data": {
      "text/plain": [
       "1"
      ]
     },
     "execution_count": 24,
     "metadata": {},
     "output_type": "execute_result"
    }
   ],
   "source": [
    "## indexing\n",
    "tuple=(1,3,5,7,9)\n",
    "tuple[0]"
   ]
  },
  {
   "cell_type": "code",
   "execution_count": 25,
   "id": "acea10d1",
   "metadata": {},
   "outputs": [
    {
     "data": {
      "text/plain": [
       "(3, 5)"
      ]
     },
     "execution_count": 25,
     "metadata": {},
     "output_type": "execute_result"
    }
   ],
   "source": [
    "##Slicing\n",
    "tuple=(1,3,5,7,9)\n",
    "tuple[1:3]"
   ]
  },
  {
   "cell_type": "markdown",
   "id": "c901509a",
   "metadata": {},
   "source": [
    "Q3. Which collection datatypes in python do not allow duplicate items? Write a code using a set to removeduplicates from the given list.\n",
    "List = [1, 1, 1, 2, 1, 3, 1, 4, 2, 1, 2, 2, 2, 3, 2, 4, 3, 1, 3, 2, 3, 3, 3, 4, 4, 1, 4, 2, 4, 3, 4, 4]\n",
    "\n",
    "Ans- Sets in python do not allow duplicate items.\n"
   ]
  },
  {
   "cell_type": "code",
   "execution_count": 26,
   "id": "6018b77a",
   "metadata": {},
   "outputs": [
    {
     "data": {
      "text/plain": [
       "{1, 2, 3, 4}"
      ]
     },
     "execution_count": 26,
     "metadata": {},
     "output_type": "execute_result"
    }
   ],
   "source": [
    "List = [1, 1, 1, 2, 1, 3, 1, 4, 2, 1, 2, 2, 2, 3, 2, 4, 3, 1, 3, 2, 3, 3, 3, 4, 4, 1, 4, 2, 4, 3, 4, 4]\n",
    "set(List)"
   ]
  },
  {
   "cell_type": "markdown",
   "id": "c609a928",
   "metadata": {},
   "source": [
    "Q4. Explain the difference between the union() and update() methods for a set. Give an example of\n",
    "each method.\n",
    "\n",
    "Ans-update() adds all missing elements to the set on which it is called whereas set. union() creates a new set.\n"
   ]
  },
  {
   "cell_type": "code",
   "execution_count": 27,
   "id": "c6f0e45d",
   "metadata": {},
   "outputs": [
    {
     "name": "stdout",
     "output_type": "stream",
     "text": [
      "{'Sat', 'Wed', 'Sun', 'Mon', 'Fri', 'Thu', 'Tue'}\n"
     ]
    }
   ],
   "source": [
    "## union\n",
    "DaysA = set([\"Mon\",\"Tue\",\"Wed\"])\n",
    "Daysb = set([\"Wed\",\"Thu\",\"Fri\",\"Sat\",\"Sun\"])\n",
    "AllDays = DaysA|DaysB \n",
    "print(AllDays)"
   ]
  },
  {
   "cell_type": "code",
   "execution_count": 28,
   "id": "2004485a",
   "metadata": {},
   "outputs": [
    {
     "name": "stdout",
     "output_type": "stream",
     "text": [
      "{'banana', 'apple', 'google', 'microsoft', 'cherry'}\n"
     ]
    }
   ],
   "source": [
    "## update\n",
    "x = {\"apple\", \"banana\", \"cherry\"}\n",
    "y = {\"google\", \"microsoft\", \"apple\"}\n",
    "\n",
    "x.update(y)\n",
    "\n",
    "print(x)"
   ]
  },
  {
   "cell_type": "markdown",
   "id": "b1c6e1b5",
   "metadata": {},
   "source": [
    "Q5. What is a dictionary? Give an example. Also, state whether a dictionary is ordered or unordered.\n",
    "\n",
    "\n",
    "Ans-● A dictionary is an unordered collection of key-value pairs.\n",
    "    ● Indexing in a dictionary is done using these “keys”.\n",
    "    ● Each pair maps the key to its value.\n",
    "    ● Literals of the type dictionary are enclosed within curly brackets.\n",
    "     Dictionary is unordered collection of key value pair."
   ]
  },
  {
   "cell_type": "markdown",
   "id": "1b796938",
   "metadata": {},
   "source": [
    "Q6. Can we create a nested dictionary? If so, please give an example by creating a simple one-level\n",
    "nested dictionary.\n",
    "\n",
    "Ans- yes we can create a nested disctionary."
   ]
  },
  {
   "cell_type": "code",
   "execution_count": null,
   "id": "e4e88971",
   "metadata": {},
   "outputs": [],
   "source": [
    "d16 = {\"batch_name\" :[\"data science masters\" , \"web dev\" , \"JDS\"] , \"start_date\": (28,14,21),\"mentor_name\" : {\"krish naik\", \"sudhanshu\" , \"hitesh\", \"anurag\" , \"navin\",\"hayder\"}}\n",
    "d16"
   ]
  },
  {
   "cell_type": "markdown",
   "id": "0fb5b20e",
   "metadata": {},
   "source": [
    "Q7. Using setdefault() method, create key named topics in the given dictionary and also add the value of\n",
    "the key as this list ['Python', 'Machine Learning’, 'Deep Learning']\n",
    "dict1 = {'language' : 'Python', 'course': 'Data Science Masters'}"
   ]
  },
  {
   "cell_type": "code",
   "execution_count": null,
   "id": "74e94936",
   "metadata": {},
   "outputs": [],
   "source": [
    "dict1 = {'language' : 'Python', 'course': 'Data Science Masters'}\n",
    "dict1.setdefault('Topics', ['Python', 'Machine Learning', 'Deep Learning'])\n",
    "dict1"
   ]
  },
  {
   "cell_type": "markdown",
   "id": "cd3220a8",
   "metadata": {},
   "source": [
    "Q8. What are the three view objects in dictionaries? Use the three in-built methods in python to display\n",
    "these three view objects for the given dictionary.\n",
    "dict2 = {'Sport': 'Cricket' , 'Teams': ['India', 'Australia', 'England', 'South Africa', 'Sri Lanka', 'New Zealand']}\n",
    "\n",
    "Ans- The main view objects of dictionary in python are keys, values and items."
   ]
  },
  {
   "cell_type": "code",
   "execution_count": null,
   "id": "2f64e9fb",
   "metadata": {},
   "outputs": [],
   "source": [
    "dict2 = {'Sport': 'Cricket' , 'Teams': ['India', 'Australia', 'England', 'South Africa', 'Sri Lanka', 'New Zealand']}\n",
    "print(dict2.keys())\n",
    "print(dict2.values())\n",
    "print(dict2.items())"
   ]
  },
  {
   "cell_type": "code",
   "execution_count": null,
   "id": "e139285c",
   "metadata": {},
   "outputs": [],
   "source": []
  }
 ],
 "metadata": {
  "kernelspec": {
   "display_name": "Python 3 (ipykernel)",
   "language": "python",
   "name": "python3"
  },
  "language_info": {
   "codemirror_mode": {
    "name": "ipython",
    "version": 3
   },
   "file_extension": ".py",
   "mimetype": "text/x-python",
   "name": "python",
   "nbconvert_exporter": "python",
   "pygments_lexer": "ipython3",
   "version": "3.9.13"
  }
 },
 "nbformat": 4,
 "nbformat_minor": 5
}
